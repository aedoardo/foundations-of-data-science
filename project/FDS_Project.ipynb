{
  "nbformat": 4,
  "nbformat_minor": 0,
  "metadata": {
    "colab": {
      "name": "FDS Project.ipynb",
      "provenance": [],
      "collapsed_sections": [],
      "include_colab_link": true
    },
    "kernelspec": {
      "name": "python3",
      "display_name": "Python 3"
    },
    "accelerator": "GPU"
  },
  "cells": [
    {
      "cell_type": "markdown",
      "metadata": {
        "id": "view-in-github",
        "colab_type": "text"
      },
      "source": [
        "<a href=\"https://colab.research.google.com/github/andrea-gasparini/foundations-data-science/blob/master/project/FDS_Project.ipynb\" target=\"_parent\"><img src=\"https://colab.research.google.com/assets/colab-badge.svg\" alt=\"Open In Colab\"/></a>"
      ]
    },
    {
      "cell_type": "markdown",
      "metadata": {
        "id": "_kNTI8kbn5cn"
      },
      "source": [
        "# Foundations of Data Science - Final Project\n",
        "\n",
        "> Andrea Gasparini, 1813486 <br>\n",
        "> Edoardo Di Paolo, 1728334 <br>\n",
        "> Cirillo Atalla, 1755033 <br>"
      ]
    },
    {
      "cell_type": "markdown",
      "metadata": {
        "id": "csPsKIE4pg6-"
      },
      "source": [
        "## Colab setup and Libraries import"
      ]
    },
    {
      "cell_type": "code",
      "metadata": {
        "colab": {
          "base_uri": "https://localhost:8080/"
        },
        "id": "FuZXbXw8jcIY",
        "outputId": "e6d58d6c-d997-4ede-d7b5-6a022ae69462"
      },
      "source": [
        "from google.colab import drive\r\n",
        "drive.mount('/content/drive')\r\n",
        "\r\n",
        "dataset_path = \"/content/drive/MyDrive/dataset.json\""
      ],
      "execution_count": 1,
      "outputs": [
        {
          "output_type": "stream",
          "text": [
            "Mounted at /content/drive\n"
          ],
          "name": "stdout"
        }
      ]
    },
    {
      "cell_type": "code",
      "metadata": {
        "colab": {
          "base_uri": "https://localhost:8080/"
        },
        "id": "oedT141zlUgZ",
        "outputId": "f052aa77-d6fd-47cd-9e2e-7b8b1e957d31"
      },
      "source": [
        "import os\r\n",
        "import numpy as np\r\n",
        "import networkx as nx\r\n",
        "import seaborn as sns\r\n",
        "import matplotlib.pyplot as plt\r\n",
        "\r\n",
        "from ctypes import Union\r\n",
        "from typing import List\r\n",
        "\r\n",
        "from sklearn.feature_extraction.text import HashingVectorizer, CountVectorizer, TfidfVectorizer\r\n",
        "from sklearn.metrics import classification_report, roc_curve\r\n",
        "from sklearn.naive_bayes import BernoulliNB, MultinomialNB, GaussianNB\r\n",
        "from sklearn.model_selection import train_test_split\r\n",
        "from sklearn.tree import DecisionTreeClassifier\r\n",
        "from sklearn.linear_model import LogisticRegression\r\n",
        "from sklearn.svm import SVC\r\n",
        "from networkx import json_graph, diameter, strongly_connected_components, DiGraph\r\n",
        "from sklearn.metrics import confusion_matrix\r\n",
        "from sklearn.utils.multiclass import unique_labels\r\n",
        "\r\n",
        "!pip install jsonlines\r\n",
        "import jsonlines"
      ],
      "execution_count": 2,
      "outputs": [
        {
          "output_type": "stream",
          "text": [
            "Collecting jsonlines\n",
            "  Downloading https://files.pythonhosted.org/packages/4f/9a/ab96291470e305504aa4b7a2e0ec132e930da89eb3ca7a82fbe03167c131/jsonlines-1.2.0-py2.py3-none-any.whl\n",
            "Requirement already satisfied: six in /usr/local/lib/python3.6/dist-packages (from jsonlines) (1.15.0)\n",
            "Installing collected packages: jsonlines\n",
            "Successfully installed jsonlines-1.2.0\n"
          ],
          "name": "stdout"
        }
      ]
    },
    {
      "cell_type": "markdown",
      "metadata": {
        "id": "QherfGympVGM"
      },
      "source": [
        "## Dataset"
      ]
    },
    {
      "cell_type": "code",
      "metadata": {
        "id": "rs4QwpVTlwJ4"
      },
      "source": [
        "def load_json_dataset(filename):\r\n",
        "    \"\"\"\r\n",
        "    Loads the dataset from a JSON Lines file and parses it to have a list of functions.\r\n",
        "\r\n",
        "    :param filename: A JSON Lines filename\r\n",
        "    :type filename: str\r\n",
        "    :returns: The list of functions, the list of target classes, the set of the class names and the list of DiGraphs\r\n",
        "    :rtype: (List[List[str]], List[str], set, List[DiGraph])\r\n",
        "    \"\"\"\r\n",
        "    data: List[List[str]] = list()\r\n",
        "    target: List[str] = list()\r\n",
        "    target_list = set()\r\n",
        "    nx_graphs: List[DiGraph] = list()\r\n",
        "\r\n",
        "    with jsonlines.open(filename) as file:\r\n",
        "        for line in file:\r\n",
        "            # loads the function as a string from the file\r\n",
        "            function: str = line[\"lista_asm\"]\r\n",
        "            \r\n",
        "            # parses the function to have a list of its instructions\r\n",
        "            instructions: list = [instr[1:] for instr in function[1:-1].split(\"', \")]\r\n",
        "            data.append(instructions)\r\n",
        "\r\n",
        "            nx_graph: DiGraph = json_graph.adjacency_graph(line[\"cfg\"])\r\n",
        "            nx_graphs.append(nx_graph)\r\n",
        "\r\n",
        "            # extracts the target classes list\r\n",
        "            line_class: str = line[\"semantic\"]\r\n",
        "            target.append(line_class)\r\n",
        "            target_list.add(line_class)\r\n",
        "\r\n",
        "    return data, target, target_list, nx_graphs"
      ],
      "execution_count": 3,
      "outputs": []
    },
    {
      "cell_type": "markdown",
      "metadata": {
        "id": "z1efrsirpYyo"
      },
      "source": [
        "## Preprocessing and Feature Extraction"
      ]
    },
    {
      "cell_type": "code",
      "metadata": {
        "id": "w7yaPylFmCRa"
      },
      "source": [
        "def process_data(data, nx_graphs):\r\n",
        "    \"\"\"\r\n",
        "    Extract the features from the lists of assembly functions and DiGraphs\r\n",
        "\r\n",
        "    :type data: List[List[str]]\r\n",
        "    :type nx_graphs: List[DiGraph]\r\n",
        "    :rtype: numpy.ndarray\r\n",
        "    \"\"\"\r\n",
        "\r\n",
        "    x64_ops = {\r\n",
        "        \"bitwise\": [\"xor\", \"or\", \"and\", \"not\"],\r\n",
        "        \"arithmetic\": [\"inc\", \"dec\", \"neg\", \"leaq\", \"add\", \"sub\", \"mul\", \"divq\"],\r\n",
        "        \"shift\": [\"sal\", \"shl\", \"sar\", \"shr\"],\r\n",
        "        \"movement\": [\"lea\", \"mov\", \"push\", \"pop\"],\r\n",
        "        \"calls\": [\"call\", \"leave\", \"ret\"]\r\n",
        "    }\r\n",
        "\r\n",
        "    new_data = list()\r\n",
        "\r\n",
        "    for i, function in enumerate(data):\r\n",
        "\r\n",
        "        bitwise_count = arithmetic_count = shift_count = calls_count = \\\r\n",
        "            movement_count = xmm_count = cmp_count = 0\r\n",
        "\r\n",
        "        for instr in function:\r\n",
        "            bitwise_count += sum([instr.count(op) for op in x64_ops[\"bitwise\"]])\r\n",
        "            shift_count += sum([instr.count(op) for op in x64_ops[\"shift\"]])\r\n",
        "            movement_count += sum([instr.count(op) for op in x64_ops[\"movement\"]])\r\n",
        "            arithmetic_count += sum([instr.count(op) for op in x64_ops[\"arithmetic\"]])\r\n",
        "            calls_count += sum([instr.count(op) for op in x64_ops[\"calls\"]])\r\n",
        "            xmm_count += instr.count(\"xmm\")\r\n",
        "            cmp_count += instr.count(\"cmp\")\r\n",
        "\r\n",
        "        graph = nx_graphs[i]\r\n",
        "        graph_nodes = len(graph.nodes())\r\n",
        "        graph_diameter = max([diameter(graph.subgraph(cc_set)) for cc_set in strongly_connected_components(graph)])\r\n",
        "        complexity = len(graph.edges()) - graph_nodes - nx.components.number_strongly_connected_components(graph)\r\n",
        "\r\n",
        "        new_data.append([graph_nodes, graph_diameter, movement_count, bitwise_count,\r\n",
        "                        xmm_count, arithmetic_count, cmp_count, shift_count, calls_count])\r\n",
        "\r\n",
        "    return np.array(new_data)"
      ],
      "execution_count": 4,
      "outputs": []
    },
    {
      "cell_type": "markdown",
      "metadata": {
        "id": "fzYDGhK1pdLC"
      },
      "source": [
        "## Model selection"
      ]
    },
    {
      "cell_type": "code",
      "metadata": {
        "id": "owQTwBAFmKvu"
      },
      "source": [
        "def get_model(data_train, target_train, model_type):\r\n",
        "    \"\"\"\r\n",
        "    Returns a model fitted with training data\r\n",
        "\r\n",
        "    :type data_train: list of list\r\n",
        "    :type target_train: list\r\n",
        "    :type model_type: str\r\n",
        "    :rtype: Union[DecisionTreeClassifier, SVC, LogisticRegression]\r\n",
        "    \"\"\"\r\n",
        "\r\n",
        "    if model_type == \"decision_tree\":\r\n",
        "        model = DecisionTreeClassifier().fit(data_train, target_train)\r\n",
        "        print('Decision Tree Model created')\r\n",
        "    elif model_type == \"svm\":\r\n",
        "        model = SVC(kernel='linear', C=1).fit(data_train, target_train)\r\n",
        "        print('SVM Model created')\r\n",
        "    elif model_type == \"regression\":\r\n",
        "        return LogisticRegression().fit(data_train, target_train)\r\n",
        "        print('Logistic Regression Model created')\r\n",
        "    else:\r\n",
        "        raise Exception(model_type + \" isn't a valid model type\")\r\n",
        "\r\n",
        "    return model"
      ],
      "execution_count": 5,
      "outputs": []
    },
    {
      "cell_type": "markdown",
      "metadata": {
        "id": "yk2tQCwfqBeZ"
      },
      "source": [
        "## Plots and visualization utilities"
      ]
    },
    {
      "cell_type": "code",
      "metadata": {
        "id": "bFXDurqrmWQR"
      },
      "source": [
        "def plot_target_distribution(target):\r\n",
        "    \"\"\"\r\n",
        "    Plots a bar histogram of the target classes distribution\r\n",
        "\r\n",
        "    :param target: The list of target classes\r\n",
        "    :type target: list\r\n",
        "    :rtype: None\r\n",
        "    \"\"\"\r\n",
        "    target_dict = {name: 0 for name in set(target)}\r\n",
        "\r\n",
        "    for y in target:\r\n",
        "        target_dict[y] += 1\r\n",
        "\r\n",
        "    x = np.arange(len(target_dict.values()))\r\n",
        "    plt.bar(x, height=target_dict.values())\r\n",
        "    plt.xticks(x, target_dict.keys())\r\n",
        "    plt.show()\r\n",
        "\r\n",
        "\r\n",
        "def plot_confusion_matrix(y_true, y_pred, normalize=False, title=None, cmap=plt.cm.Blues):\r\n",
        "    \"\"\"\r\n",
        "    This function prints and plots the confusion matrix.\r\n",
        "    Normalization can be applied by setting `normalize=True`.\r\n",
        "    \"\"\"\r\n",
        "\r\n",
        "    if not title:\r\n",
        "        if normalize:\r\n",
        "            title = 'Normalized confusion matrix'\r\n",
        "        else:\r\n",
        "            title = 'Confusion matrix, without normalization'\r\n",
        "\r\n",
        "    # Compute confusion matrix\r\n",
        "    cm = confusion_matrix(y_true, y_pred, labels=None)\r\n",
        "\r\n",
        "    # Only use the labels that appear in the data\r\n",
        "    classes = unique_labels(y_true, y_pred)\r\n",
        "\r\n",
        "    if normalize:\r\n",
        "        cm = cm.astype('float') / cm.sum(axis=1)[:, np.newaxis]\r\n",
        "\r\n",
        "    fig, ax = plt.subplots()\r\n",
        "    im = ax.imshow(cm, interpolation='nearest', cmap=cmap)\r\n",
        "    ax.figure.colorbar(im, ax=ax)\r\n",
        "    \r\n",
        "    # We want to show all ticks...\r\n",
        "    ax.set(xticks=np.arange(cm.shape[1]),\r\n",
        "           yticks=np.arange(cm.shape[0]),\r\n",
        "           # ... and label them with the respective list entries\r\n",
        "           xticklabels=classes, yticklabels=classes,\r\n",
        "           title=title,\r\n",
        "           ylabel='True label',\r\n",
        "           xlabel='Predicted label')\r\n",
        "\r\n",
        "    ax.set_ylim(len(classes) - 0.5, -0.5)\r\n",
        "\r\n",
        "    # Rotate the tick labels and set their alignment.\r\n",
        "    plt.setp(ax.get_xticklabels(), rotation=45, ha=\"right\", rotation_mode=\"anchor\")\r\n",
        "\r\n",
        "    # Loop over data dimensions and create text annotations.\r\n",
        "    fmt = '.2f' if normalize else 'd'\r\n",
        "    thresh = cm.max() / 2.\r\n",
        "    for i in range(cm.shape[0]):\r\n",
        "        for j in range(cm.shape[1]):\r\n",
        "            ax.text(j, i, format(cm[i, j], fmt), ha=\"center\", va=\"center\",\r\n",
        "                    color=\"white\" if cm[i, j] > thresh else \"black\")\r\n",
        "\r\n",
        "    fig.tight_layout()\r\n",
        "    plt2 = plt.gcf()\r\n",
        "    plt.show()\r\n",
        "\r\n",
        "    return plt, ax\r\n"
      ],
      "execution_count": 6,
      "outputs": []
    },
    {
      "cell_type": "markdown",
      "metadata": {
        "id": "Xe4QdTCZqMWo"
      },
      "source": [
        "## Main"
      ]
    },
    {
      "cell_type": "code",
      "metadata": {
        "colab": {
          "base_uri": "https://localhost:8080/",
          "height": 802
        },
        "id": "WThu9gFJmLSj",
        "outputId": "69746c0f-c68e-4deb-9a4b-a3e1ce173380"
      },
      "source": [
        "model_type = \"svm\"\r\n",
        "dataset_filename: str = dataset_path\r\n",
        "\r\n",
        "data, y_all, class_names, graphs = load_json_dataset(dataset_filename)\r\n",
        "\r\n",
        "plot_target_distribution(y_all)\r\n",
        "\r\n",
        "X_all = process_data(data, graphs)\r\n",
        "\r\n",
        "X_train, X_test, y_train, y_test = train_test_split(X_all, y_all, test_size=0.33, random_state=42)\r\n",
        "print(\"Train: %d - Test: %d\" % (X_train.shape[0], X_test.shape[0]))\r\n",
        "\r\n",
        "model = get_model(X_train, y_train, model_type)\r\n",
        "y_pred = model.predict(X_test)\r\n",
        "print(classification_report(y_test, y_pred))\r\n",
        "\r\n",
        "plot_confusion_matrix(y_test, y_pred, normalize=True)"
      ],
      "execution_count": 7,
      "outputs": [
        {
          "output_type": "display_data",
          "data": {
            "image/png": "[encoded data removed]",
            "text/plain": [
              "<Figure size 432x288 with 1 Axes>"
            ]
          },
          "metadata": {
            "tags": [],
            "needs_background": "light"
          }
        },
        {
          "output_type": "stream",
          "text": [
            "Train: 4068 - Test: 2005\n",
            "SVM Model created\n",
            "              precision    recall  f1-score   support\n",
            "\n",
            "  encryption       0.98      0.95      0.96       366\n",
            "        math       0.95      1.00      0.97       816\n",
            "        sort       0.83      0.86      0.84       173\n",
            "      string       0.98      0.93      0.95       650\n",
            "\n",
            "    accuracy                           0.95      2005\n",
            "   macro avg       0.93      0.93      0.93      2005\n",
            "weighted avg       0.95      0.95      0.95      2005\n",
            "\n"
          ],
          "name": "stdout"
        },
        {
          "output_type": "display_data",
          "data": {
            "image/png": "[encoded data removed]",
            "text/plain": [
              "<Figure size 432x288 with 2 Axes>"
            ]
          },
          "metadata": {
            "tags": [],
            "needs_background": "light"
          }
        },
        {
          "output_type": "execute_result",
          "data": {
            "text/plain": [
              "(<module 'matplotlib.pyplot' from '/usr/local/lib/python3.6/dist-packages/matplotlib/pyplot.py'>,\n",
              " <matplotlib.axes._subplots.AxesSubplot at 0x7f7c31f677b8>)"
            ]
          },
          "metadata": {
            "tags": []
          },
          "execution_count": 7
        }
      ]
    }
  ]
}